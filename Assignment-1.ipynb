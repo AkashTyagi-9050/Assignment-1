{
 "cells": [
  {
   "cell_type": "markdown",
   "id": "3245975e-fb0d-4404-bb35-740c3622851c",
   "metadata": {},
   "source": [
    "# Q1. Create one variable containing following type of data:\n",
    "\n",
    "(i) string\n",
    "\n",
    "(ii) list\n",
    "\n",
    "(iii) float\n",
    "\n",
    "(iv) tuple"
   ]
  },
  {
   "cell_type": "markdown",
   "id": "0b5c1feb-a604-4c50-9268-06c56adf20b6",
   "metadata": {},
   "source": [
    "# Ans : \n",
    "\n",
    "(1) String -> s = \"this is string datatype\"\n",
    "\n",
    "(2) list  -> l = [ 1,2,4,5,\"akash\",\"pwskills\",6.7 ]\n",
    "\n",
    "(3) Float -> f = 3.5\n",
    "\n",
    "(4) tuple -> t=( 1,3,4 ,\"pwskills\" , 5.6 )"
   ]
  },
  {
   "cell_type": "markdown",
   "id": "aff49564-5b97-4787-9e5d-762c50273012",
   "metadata": {},
   "source": [
    "# Q2. Given are some following variables containing data:\n",
    "\n",
    "(i) var1 = ‘ ‘\n",
    "\n",
    "(ii) var2 = ‘[ DS , ML , Python]’\n",
    "\n",
    "(iii) var3 = [ ‘DS’ , ’ML’ , ‘Python’ ]\n",
    "\n",
    "(iv) var4 = 1.\n",
    "\n",
    "What will be the data type of the above given variable.\n"
   ]
  },
  {
   "cell_type": "markdown",
   "id": "03236d01-da41-4628-9828-5bc3530f87c7",
   "metadata": {},
   "source": [
    "# Ans :\n",
    "\n",
    "(1) var1 -> string Data type\n",
    "\n",
    "(2) var2 -> string Data type\n",
    "\n",
    "(3) var3 -> list Data type\n",
    "\n",
    "(4) var4 -> float data type  { 1. -> 1.0 -> thats why float , if its 1 -> int data type }\n",
    "\n",
    "    \n"
   ]
  },
  {
   "cell_type": "markdown",
   "id": "ff8111ee-f77f-45b0-905e-592d106fabc8",
   "metadata": {},
   "source": [
    "# Q3. Explain the use of the following operators using an example:\n",
    "\n",
    "(i) /\n",
    "\n",
    "(ii) %\n",
    "\n",
    "(iii) //\n",
    "\n",
    "(iv) **\n"
   ]
  },
  {
   "cell_type": "markdown",
   "id": "4200e2b8-facd-4611-8391-3839be890630",
   "metadata": {},
   "source": [
    "# Ans :\n",
    "\n",
    "All These Operator comes under Arithmetic operator \n",
    "\n",
    "(1) / -> It is a division operator . Gives result in float value . \n",
    "    \n",
    "    Example : \n",
    "              \n",
    "              11/2 -> 5.5 \n",
    "              9/3  -> 3.0\n",
    "\n",
    "(2) % -> It is a Modulus Operator . Gives the reminder value .\n",
    "    \n",
    "    Example : \n",
    "              \n",
    "              11 % 2 -> 1\n",
    "              9 % 3  -> 0\n",
    "\n",
    "(3) // -> It is a floor division operator . Gives the result in int type not in float value\n",
    "    \n",
    "    Example : \n",
    "              \n",
    "              11 // 2 -> 5\n",
    "              29 // 4 -> 7\n",
    "\n",
    "(4) ** -> It is a Exponentiation operator . Gives result in power .\n",
    "    \n",
    "    Example : \n",
    "              \n",
    "              11 ** 2 -> 121\n",
    "              9 ** 3  -> 729 \n",
    "    "
   ]
  },
  {
   "cell_type": "markdown",
   "id": "90bd6967-3c0a-4828-95a2-99d821200394",
   "metadata": {},
   "source": [
    "# Q4. Create a list of length 10 of your choice containing multiple types of data. Using for loop print the  element and its data type."
   ]
  },
  {
   "cell_type": "markdown",
   "id": "9266b645-db92-45c8-8aa7-2cd03512f84a",
   "metadata": {},
   "source": [
    "# Ans :"
   ]
  },
  {
   "cell_type": "code",
   "execution_count": 4,
   "id": "88ef07a7-79d0-41b6-a62b-48302af6ecb0",
   "metadata": {},
   "outputs": [
    {
     "name": "stdout",
     "output_type": "stream",
     "text": [
      "1 data type is  <class 'int'>\n",
      "2 data type is  <class 'int'>\n",
      "3 data type is  <class 'int'>\n",
      "akash data type is  <class 'str'>\n",
      "1.2 data type is  <class 'float'>\n",
      "(2+3j) data type is  <class 'complex'>\n",
      "[44, 55, 66] data type is  <class 'list'>\n",
      "python data type is  <class 'str'>\n",
      "5.6 data type is  <class 'float'>\n",
      "pwskills data type is  <class 'str'>\n"
     ]
    }
   ],
   "source": [
    "l = [ 1 , 2 , 3 , \"akash\" , 1.2 , 2 +3j , [44,55,66] , \"python\" , 5.6 , \"pwskills\"  ]  \n",
    "\n",
    "for i in l :\n",
    "    print(i , \"data type is \", type(i) )"
   ]
  },
  {
   "cell_type": "markdown",
   "id": "58a260fb-1a38-4ae6-b180-828201ad14a8",
   "metadata": {},
   "source": [
    "# Q5. Using a while loop, verify if the number A is purely divisible by number B and if so then how many times it can be divisible."
   ]
  },
  {
   "cell_type": "markdown",
   "id": "cd7b88ec-8a24-4da4-baa7-cccdb313d19c",
   "metadata": {},
   "source": [
    "# Ans"
   ]
  },
  {
   "cell_type": "code",
   "execution_count": 5,
   "id": "e56be8be-5478-40d6-b3bd-7bec62fd7dd3",
   "metadata": {},
   "outputs": [
    {
     "name": "stdin",
     "output_type": "stream",
     "text": [
      "enter value A: 100\n",
      "enter value B: 5\n"
     ]
    },
    {
     "name": "stdout",
     "output_type": "stream",
     "text": [
      "A purely divisible by B by no. of time  20\n"
     ]
    }
   ],
   "source": [
    "A = int(input(\"enter value A:\"))\n",
    "B = int(input(\"enter value B:\"))\n",
    "\n",
    "while A % B == 0:\n",
    "    s=A//B\n",
    "    print(\"A purely divisible by B by no. of time \" ,s)\n",
    "    break\n",
    "else:\n",
    "    print(\"A does not purely divide B\")"
   ]
  },
  {
   "cell_type": "markdown",
   "id": "ec10ab2b-cea5-4d6d-a71f-822110571396",
   "metadata": {},
   "source": [
    "# Q6. Create a list containing 25 int type data. Using for loop and if-else condition print if the element is divisible by 3 or not."
   ]
  },
  {
   "cell_type": "markdown",
   "id": "d50ca15b-8adc-454f-895a-00bea77efb65",
   "metadata": {},
   "source": [
    "# Ans"
   ]
  },
  {
   "cell_type": "code",
   "execution_count": 6,
   "id": "322b294c-6d8f-40a1-8412-2203ccb52efd",
   "metadata": {},
   "outputs": [
    {
     "name": "stdout",
     "output_type": "stream",
     "text": [
      "0 is divisible by 3\n",
      "1 is not divisible by 3\n",
      "2 is not divisible by 3\n",
      "3 is divisible by 3\n",
      "4 is not divisible by 3\n",
      "5 is not divisible by 3\n",
      "6 is divisible by 3\n",
      "7 is not divisible by 3\n",
      "8 is not divisible by 3\n",
      "9 is divisible by 3\n",
      "10 is not divisible by 3\n",
      "11 is not divisible by 3\n",
      "12 is divisible by 3\n",
      "13 is not divisible by 3\n",
      "14 is not divisible by 3\n",
      "15 is divisible by 3\n",
      "16 is not divisible by 3\n",
      "17 is not divisible by 3\n",
      "18 is divisible by 3\n",
      "19 is not divisible by 3\n",
      "20 is not divisible by 3\n",
      "21 is divisible by 3\n",
      "22 is not divisible by 3\n",
      "23 is not divisible by 3\n",
      "24 is divisible by 3\n"
     ]
    }
   ],
   "source": [
    "l = list(range(25))\n",
    "\n",
    "for i in l :\n",
    "    if i % 3 == 0:\n",
    "        print(i,\"is divisible by 3\")\n",
    "    else:\n",
    "        print(i,\"is not divisible by 3\")"
   ]
  },
  {
   "cell_type": "markdown",
   "id": "efff8ced-48a5-46a8-8dd3-7ba24e6c36ff",
   "metadata": {},
   "source": [
    "# Q7. What do you understand about mutable and immutable data types? Give examples for both showing this property."
   ]
  },
  {
   "cell_type": "markdown",
   "id": "86ddd5f7-ab62-4d91-ba40-4c0928f763a0",
   "metadata": {},
   "source": [
    "# Ans : \n",
    "    \n",
    "# Mutable : \n",
    "    \n",
    "    Those data types for which we can change or modify data over the time. List , string are the mutable data type .\n",
    "    \n",
    "    Example: "
   ]
  },
  {
   "cell_type": "code",
   "execution_count": 7,
   "id": "4c73dca8-02d9-44fa-9d0c-bca7421703f4",
   "metadata": {},
   "outputs": [
    {
     "name": "stdout",
     "output_type": "stream",
     "text": [
      "[2, 4, 6, 7]\n"
     ]
    }
   ],
   "source": [
    "# even numbers \n",
    "l = [2,4,6,7]\n",
    "print(l)"
   ]
  },
  {
   "cell_type": "code",
   "execution_count": 8,
   "id": "c1082e38-252a-4edd-b0de-0235e23c8265",
   "metadata": {},
   "outputs": [
    {
     "name": "stdout",
     "output_type": "stream",
     "text": [
      "[2, 4, 6, 8]\n"
     ]
    }
   ],
   "source": [
    "# replacing 7 with 8 , through index value 3 . As we are able to change the value list is mutable type.\n",
    "l[3] = 8\n",
    "print(l)"
   ]
  },
  {
   "cell_type": "markdown",
   "id": "db8d2172-34d1-43f2-bb69-2f71e1fefa04",
   "metadata": {},
   "source": [
    "# Immutable :\n",
    "\n",
    "    Those Data types for which we can't change or modify the data . Tuple is the example for Immutable Data type .\n",
    "    \n",
    "    Example:\n",
    "    "
   ]
  },
  {
   "cell_type": "code",
   "execution_count": 9,
   "id": "ab7cedb0-2fca-44c8-9a2f-14051aca8d0a",
   "metadata": {},
   "outputs": [
    {
     "name": "stdout",
     "output_type": "stream",
     "text": [
      "(2, 4, 6, 7)\n"
     ]
    }
   ],
   "source": [
    "l = (2,4,6,7)\n",
    "print(l)"
   ]
  },
  {
   "cell_type": "code",
   "execution_count": 10,
   "id": "071b1447-2eae-4813-a17c-1d053c9bed30",
   "metadata": {},
   "outputs": [
    {
     "ename": "TypeError",
     "evalue": "'tuple' object does not support item assignment",
     "output_type": "error",
     "traceback": [
      "\u001b[0;31m---------------------------------------------------------------------------\u001b[0m",
      "\u001b[0;31mTypeError\u001b[0m                                 Traceback (most recent call last)",
      "Cell \u001b[0;32mIn[10], line 2\u001b[0m\n\u001b[1;32m      1\u001b[0m \u001b[38;5;66;03m# error indicates that we can not modify the data so tuple is immutable type.\u001b[39;00m\n\u001b[0;32m----> 2\u001b[0m \u001b[43ml\u001b[49m\u001b[43m[\u001b[49m\u001b[38;5;241;43m3\u001b[39;49m\u001b[43m]\u001b[49m \u001b[38;5;241m=\u001b[39m \u001b[38;5;241m8\u001b[39m\n\u001b[1;32m      3\u001b[0m \u001b[38;5;28mprint\u001b[39m(l)\n",
      "\u001b[0;31mTypeError\u001b[0m: 'tuple' object does not support item assignment"
     ]
    }
   ],
   "source": [
    "# error indicates that we can not modify the data so tuple is immutable type.\n",
    "l[3] = 8\n",
    "print(l)"
   ]
  },
  {
   "cell_type": "markdown",
   "id": "4abab7d8-afb1-4ee6-8b07-0da7ec4112b2",
   "metadata": {},
   "source": [
    "# Thank You "
   ]
  },
  {
   "cell_type": "code",
   "execution_count": null,
   "id": "a1bf6702-8f6f-4070-9310-02d5c4e5c48a",
   "metadata": {},
   "outputs": [],
   "source": []
  }
 ],
 "metadata": {
  "kernelspec": {
   "display_name": "Python 3 (ipykernel)",
   "language": "python",
   "name": "python3"
  },
  "language_info": {
   "codemirror_mode": {
    "name": "ipython",
    "version": 3
   },
   "file_extension": ".py",
   "mimetype": "text/x-python",
   "name": "python",
   "nbconvert_exporter": "python",
   "pygments_lexer": "ipython3",
   "version": "3.10.8"
  }
 },
 "nbformat": 4,
 "nbformat_minor": 5
}
